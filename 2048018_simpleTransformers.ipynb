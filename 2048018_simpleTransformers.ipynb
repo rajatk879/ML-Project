{
  "nbformat": 4,
  "nbformat_minor": 0,
  "metadata": {
    "colab": {
      "name": "nlp_simpleTransformers.ipynb",
      "provenance": [],
      "collapsed_sections": []
    },
    "kernelspec": {
      "name": "python3",
      "display_name": "Python 3"
    },
    "accelerator": "GPU"
  },
  "cells": [
    {
      "cell_type": "code",
      "metadata": {
        "id": "vOhCZ0SlXYhE"
      },
      "source": [
        "# Installation of packages and setting up the environment\n",
        "!pip install transformers\n",
        "!pip install tensorboardx\n",
        "!pip install simpletransformers"
      ],
      "execution_count": null,
      "outputs": []
    },
    {
      "cell_type": "code",
      "metadata": {
        "id": "yaD9GZuMae8v"
      },
      "source": [
        "# Installation of \"apex\" package from a cloned GitHub Repository so as to enable GPU utilisation\n",
        "\n",
        "%%writefile setup.sh\n",
        "\n",
        "export CUDA_HOME=/usr/local/cuda-10.1\n",
        "git clone https://github.com/NVIDIA/apex\n",
        "pip install -v --no-cache-dir --global-option=\"--cpp_ext\" --global-option=\"--cuda_ext\" ./apex"
      ],
      "execution_count": null,
      "outputs": []
    },
    {
      "cell_type": "code",
      "metadata": {
        "id": "xsskC10Rali_"
      },
      "source": [
        "!sh setup.sh"
      ],
      "execution_count": null,
      "outputs": []
    },
    {
      "cell_type": "code",
      "metadata": {
        "id": "_9ynavRUatuV"
      },
      "source": [
        "# Code cell to confirm the connection with the remote GPU\n",
        "import tensorflow as tf\n",
        "tf.test.gpu_device_name()"
      ],
      "execution_count": null,
      "outputs": []
    },
    {
      "cell_type": "code",
      "metadata": {
        "id": "9RmuaSA8c2LZ"
      },
      "source": [
        "import pandas as pd\n",
        "\n",
        "df = pd.read_excel(r\"nlp_data.xlsx\")"
      ],
      "execution_count": null,
      "outputs": []
    },
    {
      "cell_type": "code",
      "metadata": {
        "id": "7Pis8CNvaoK7"
      },
      "source": [
        "from sklearn.model_selection import train_test_split\n",
        "\n",
        "x_train, x_test ,y_train, y_test = train_test_split(df[\"text\"], df[\"label\"], test_size = 0.3, random_state = 42)"
      ],
      "execution_count": null,
      "outputs": []
    },
    {
      "cell_type": "code",
      "metadata": {
        "id": "gIqEpfleiv7D"
      },
      "source": [
        "from simpletransformers.classification import ClassificationModel\n",
        "\n",
        "# MODEL ARGUMENTS FOR ALL BERT MODELS\n",
        "\n",
        "# bert, bert-base-multilingual-cased\n",
        "# distilbert, distilber-base-multilingual-cased\n",
        "# xlm, xlm-mlm-100-1280\n",
        "\n",
        "model = ClassificationModel(\"xlm\", \"xlm-mlm-100-1280\", num_labels = 8, use_cuda = True, args = {\"overwrite_output_dir\": True, \n",
        "                                                                                                \"train_batch_size\": 8,\n",
        "                                                                                                \"eval_batch_size\": 8,\n",
        "                                                                                                \"num_train_epochs\": 5,\n",
        "                                                                                                \"learning_rate\": 4e-5})"
      ],
      "execution_count": null,
      "outputs": []
    },
    {
      "cell_type": "code",
      "metadata": {
        "id": "ZGlJQtcAlLni"
      },
      "source": [
        "train_df = pd.concat([x_train, y_train], axis = 1)"
      ],
      "execution_count": null,
      "outputs": []
    },
    {
      "cell_type": "code",
      "metadata": {
        "id": "DraH67D-nLx7"
      },
      "source": [
        "model.train_model(train_df)"
      ],
      "execution_count": null,
      "outputs": []
    },
    {
      "cell_type": "code",
      "metadata": {
        "id": "3NrUdFqJlln0"
      },
      "source": [
        "eval_df = pd.concat([x_test, y_test], axis = 1)"
      ],
      "execution_count": null,
      "outputs": []
    },
    {
      "cell_type": "code",
      "metadata": {
        "id": "iChIHp6Sle_b"
      },
      "source": [
        "import sklearn\n",
        "\n",
        "result, model_outputs, wrong_predictions = model.eval_model(eval_df, accuracy = sklearn.metrics.accuracy_score)"
      ],
      "execution_count": null,
      "outputs": []
    },
    {
      "cell_type": "code",
      "metadata": {
        "id": "GPtcCh4yl35_"
      },
      "source": [
        "predictions, raw_outputs = model.predict(x_test)"
      ],
      "execution_count": null,
      "outputs": []
    },
    {
      "cell_type": "code",
      "metadata": {
        "id": "zn-kL8sD5O_T"
      },
      "source": [
        "print(result)"
      ],
      "execution_count": null,
      "outputs": []
    },
    {
      "cell_type": "code",
      "metadata": {
        "id": "rnN5dFQ_l5jU"
      },
      "source": [
        "print(predictions)\n",
        "print(raw_outputs)\n"
      ],
      "execution_count": null,
      "outputs": []
    },
    {
      "cell_type": "code",
      "metadata": {
        "id": "1dAEa3eM2Awl"
      },
      "source": [
        "from sklearn.preprocessing import label_binarize\n",
        "y_bin = label_binarize(y_test, classes = [1, 2, 3, 4, 5, 6, 7])\n",
        "n_classes = y_bin.shape[1]\n",
        "\n",
        "print(y_bin)"
      ],
      "execution_count": null,
      "outputs": []
    },
    {
      "cell_type": "code",
      "metadata": {
        "id": "VFci3Gr-hGFj"
      },
      "source": [
        "import matplotlib.pyplot as plt\n",
        "from itertools import cycle\n",
        "from sklearn.metrics import roc_curve, roc_auc_score, auc\n",
        "\n",
        "fpr = dict()\n",
        "tpr = dict()\n",
        "roc_auc = dict()\n",
        "\n",
        "for i in range(1, 8):\n",
        "    fpr[i - 1], tpr[i - 1], _ = roc_curve(y_bin[:, i - 1], raw_outputs[:, i])\n",
        "    roc_auc[i - 1] = auc(fpr[i - 1], tpr[i - 1])\n",
        "\n",
        "fig = plt.gcf()\n",
        "fig.set_size_inches(18.5, 10.5)\n",
        "lw = 2\n",
        "colors = cycle([\"aqua\", \"darkorange\", \"cornflowerblue\", \"deeppink\", \"green\", \"navy\", \"yellow\"])\n",
        "for i, color in zip(range(n_classes), colors):\n",
        "    plt.plot(fpr[i], tpr[i], color = color, lw = lw,\n",
        "             label = \"ROC curve of class {0} (AUC = {1:0.2f})\"\n",
        "             \"\".format(i + 1, roc_auc[i]))\n",
        "\n",
        "plt.plot([0, 1], [0, 1], \"k--\", lw = lw)\n",
        "plt.xlim([0.0, 1.0])\n",
        "plt.ylim([0.0, 1.05])\n",
        "plt.xlabel(\"False Positive Rate\")\n",
        "plt.ylabel(\"True Positive Rate\")\n",
        "plt.title(\"Receiver Operating Characteristic curve for XLM\")\n",
        "plt.legend(loc = \"lower right\")\n",
        "plt.savefig(\"roc_auc_bert.png\")\n",
        "plt.show()"
      ],
      "execution_count": null,
      "outputs": []
    }
  ]
}
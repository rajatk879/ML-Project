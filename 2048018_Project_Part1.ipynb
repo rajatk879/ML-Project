{
  "nbformat": 4,
  "nbformat_minor": 0,
  "metadata": {
    "colab": {
      "name": "2048018_label_count.ipynb",
      "provenance": []
    },
    "kernelspec": {
      "name": "python3",
      "display_name": "Python 3"
    }
  },
  "cells": [
    {
      "cell_type": "markdown",
      "metadata": {
        "id": "pzpcHsHfIDL9"
      },
      "source": [
        "\n",
        "*   **Rajat Kumar : 2048018**\n",
        "\n",
        "*   **Project On NLP**\n",
        "*   **Youtube Comment Classification**\n",
        "\n"
      ]
    },
    {
      "cell_type": "code",
      "metadata": {
        "id": "mh1we-xQnVew"
      },
      "source": [
        "import pandas as pd\n",
        "from sklearn.model_selection import train_test_split\n",
        "\n",
        "df = pd.read_excel(\"nlp_data.xlsx\")\n"
      ],
      "execution_count": 20,
      "outputs": []
    },
    {
      "cell_type": "code",
      "metadata": {
        "colab": {
          "base_uri": "https://localhost:8080/",
          "height": 195
        },
        "id": "Ky9l50c3ByvY",
        "outputId": "cd70cc9d-8378-481a-c5f8-e8681cb98214"
      },
      "source": [
        "df.head(5)\n",
        "# We can se 2 col, one with text other one as label"
      ],
      "execution_count": 21,
      "outputs": [
        {
          "output_type": "execute_result",
          "data": {
            "text/html": [
              "<div>\n",
              "<style scoped>\n",
              "    .dataframe tbody tr th:only-of-type {\n",
              "        vertical-align: middle;\n",
              "    }\n",
              "\n",
              "    .dataframe tbody tr th {\n",
              "        vertical-align: top;\n",
              "    }\n",
              "\n",
              "    .dataframe thead th {\n",
              "        text-align: right;\n",
              "    }\n",
              "</style>\n",
              "<table border=\"1\" class=\"dataframe\">\n",
              "  <thead>\n",
              "    <tr style=\"text-align: right;\">\n",
              "      <th></th>\n",
              "      <th>text</th>\n",
              "      <th>label</th>\n",
              "    </tr>\n",
              "  </thead>\n",
              "  <tbody>\n",
              "    <tr>\n",
              "      <th>0</th>\n",
              "      <td>തേങ്ങ, തേങ്ങാപ്പാൽ, ഈസ്റ്റ് ഇവയൊന്നും ചേർത്തത്...</td>\n",
              "      <td>7</td>\n",
              "    </tr>\n",
              "    <tr>\n",
              "      <th>1</th>\n",
              "      <td>Thank you. Kaima rice doubt clear aayi eppol</td>\n",
              "      <td>1</td>\n",
              "    </tr>\n",
              "    <tr>\n",
              "      <th>2</th>\n",
              "      <td>വീണ ചേച്ചി ബ്രെഡ് ഒമ്ബ്ലെയ്ട്</td>\n",
              "      <td>6</td>\n",
              "    </tr>\n",
              "    <tr>\n",
              "      <th>3</th>\n",
              "      <td>Happy journey...</td>\n",
              "      <td>6</td>\n",
              "    </tr>\n",
              "    <tr>\n",
              "      <th>4</th>\n",
              "      <td>When u come back mam</td>\n",
              "      <td>6</td>\n",
              "    </tr>\n",
              "  </tbody>\n",
              "</table>\n",
              "</div>"
            ],
            "text/plain": [
              "                                                text  label\n",
              "0  തേങ്ങ, തേങ്ങാപ്പാൽ, ഈസ്റ്റ് ഇവയൊന്നും ചേർത്തത്...      7\n",
              "1       Thank you. Kaima rice doubt clear aayi eppol      1\n",
              "2                     വീണ ചേച്ചി ബ്രെഡ് ഒമ്ബ്ലെയ്ട്       6\n",
              "3                                   Happy journey...      6\n",
              "4                               When u come back mam      6"
            ]
          },
          "metadata": {
            "tags": []
          },
          "execution_count": 21
        }
      ]
    },
    {
      "cell_type": "markdown",
      "metadata": {
        "id": "Ub-d27FEI9IN"
      },
      "source": [
        "***Basic Insight About Dataset***"
      ]
    },
    {
      "cell_type": "code",
      "metadata": {
        "colab": {
          "base_uri": "https://localhost:8080/",
          "height": 0
        },
        "id": "mQW5ARWSEMN6",
        "outputId": "a12e4357-de88-4ee9-dd39-69ed24df6a21"
      },
      "source": [
        "df.shape"
      ],
      "execution_count": 22,
      "outputs": [
        {
          "output_type": "execute_result",
          "data": {
            "text/plain": [
              "(4291, 2)"
            ]
          },
          "metadata": {
            "tags": []
          },
          "execution_count": 22
        }
      ]
    },
    {
      "cell_type": "code",
      "metadata": {
        "id": "bnxvFQMMn3DL",
        "colab": {
          "base_uri": "https://localhost:8080/",
          "height": 0
        },
        "outputId": "b4068b04-39a2-47d2-bb9b-3ba56b05f596"
      },
      "source": [
        "df.isna().sum()\n",
        "# No null values are present in both of the col."
      ],
      "execution_count": 23,
      "outputs": [
        {
          "output_type": "execute_result",
          "data": {
            "text/plain": [
              "text     0\n",
              "label    0\n",
              "dtype: int64"
            ]
          },
          "metadata": {
            "tags": []
          },
          "execution_count": 23
        }
      ]
    },
    {
      "cell_type": "code",
      "metadata": {
        "colab": {
          "base_uri": "https://localhost:8080/",
          "height": 0
        },
        "id": "0zYB3VJ7ClQ2",
        "outputId": "b773d29b-80f9-4eef-9aa4-c84f7fae1d22"
      },
      "source": [
        "df.info()"
      ],
      "execution_count": 24,
      "outputs": [
        {
          "output_type": "stream",
          "text": [
            "<class 'pandas.core.frame.DataFrame'>\n",
            "RangeIndex: 4291 entries, 0 to 4290\n",
            "Data columns (total 2 columns):\n",
            " #   Column  Non-Null Count  Dtype \n",
            "---  ------  --------------  ----- \n",
            " 0   text    4291 non-null   object\n",
            " 1   label   4291 non-null   int64 \n",
            "dtypes: int64(1), object(1)\n",
            "memory usage: 67.2+ KB\n"
          ],
          "name": "stdout"
        }
      ]
    },
    {
      "cell_type": "markdown",
      "metadata": {
        "id": "LabpUHGCJTG7"
      },
      "source": [
        "***Total Count For Each Label***"
      ]
    },
    {
      "cell_type": "code",
      "metadata": {
        "id": "C-haSAxyv3C1",
        "colab": {
          "base_uri": "https://localhost:8080/",
          "height": 0
        },
        "outputId": "be35d61f-97cd-4a4d-d6b8-e41fc716aff8"
      },
      "source": [
        "# Getting the count of each label\n",
        "total = 0\n",
        "for i in range(1, 8):\n",
        "  print(\"label \" + str(i) + \": \" + str(len(df[df[\"label\"] == i])))\n",
        "  total = total + len(df[df[\"label\"] == i])\n",
        "\n",
        "print(\"total: \" + str(total))"
      ],
      "execution_count": 25,
      "outputs": [
        {
          "output_type": "stream",
          "text": [
            "label 1: 484\n",
            "label 2: 396\n",
            "label 3: 300\n",
            "label 4: 362\n",
            "label 5: 249\n",
            "label 6: 2062\n",
            "label 7: 438\n",
            "total: 4291\n"
          ],
          "name": "stdout"
        }
      ]
    },
    {
      "cell_type": "code",
      "metadata": {
        "colab": {
          "base_uri": "https://localhost:8080/",
          "height": 248
        },
        "id": "l8GwH1KjF9pz",
        "outputId": "4c24b325-0a9c-4cfe-c154-533627ee1195"
      },
      "source": [
        "import matplotlib.pyplot as plt\n",
        "import numpy as np\n",
        "y = np.array([484, 396, 300, 362, 249, 2062, 438])\n",
        "mylabels = [\" 1\", \"2\", \"3\", \"4\", \"5\", \"6\", \"7\"]\n",
        "myexplode = [0, 0, 0, 0, 0, 0.09, 0]\n",
        "\n",
        "plt.pie(y, labels = mylabels, explode = myexplode)\n",
        "plt.show()\n",
        "# Clearly visible that 'Label 6' contributes to majority of the dataset"
      ],
      "execution_count": 31,
      "outputs": [
        {
          "output_type": "display_data",
          "data": {
            "image/png": "[encoded data removed]",
            "text/plain": [
              "<Figure size 432x288 with 1 Axes>"
            ]
          },
          "metadata": {
            "tags": []
          }
        }
      ]
    }
  ]
}